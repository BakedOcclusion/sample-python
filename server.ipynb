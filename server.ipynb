{
 "cells": [
  {
   "cell_type": "code",
   "execution_count": 4,
   "metadata": {},
   "outputs": [],
   "source": [
    "import os\n",
    "import http.server\n",
    "import socketserver\n",
    "import json\n",
    "from web3 import Web3\n",
    "import boto3\n",
    "import boto\n",
    "import boto.s3.connection\n",
    "from botocore.client import Config\n",
    "import asyncio\n",
    "import sched, time\n",
    "from threading import Thread\n",
    "from http import HTTPStatus\n",
    "\n",
    "\n"
   ]
  },
  {
   "cell_type": "code",
   "execution_count": 5,
   "metadata": {},
   "outputs": [
    {
     "name": "stdout",
     "output_type": "stream",
     "text": [
      "ZJvGUx0eeNyRoNKJh0ZqcRK95is4gW7Zdoo3bjTx6M4 T7LC47WQZ4D5QJ2TY4UX\n"
     ]
    }
   ],
   "source": [
    "#KEYS\n",
    "keyopen = open('./key.json')\n",
    "key_id = keyopen.readlines()\n",
    "skeyopen = open('./skey.txt')\n",
    "secret_key_id = skeyopen.readlines()\n",
    "\n",
    "print(secret_key_id[0],key_id[0])"
   ]
  },
  {
   "cell_type": "code",
   "execution_count": 6,
   "metadata": {},
   "outputs": [],
   "source": [
    "##### INFURA API\n",
    "\n",
    "mainNet_active = True\n",
    "\n",
    "if mainNet_active != True:\n",
    "    #rinkeby\n",
    "    infura_url = \"https://rinkeby.infura.io/v3/b416c3a2b5b543b6b10deaee40f05315\"\n",
    "\n",
    "else:\n",
    "    #mainnet\n",
    "    infura_url = \"https://mainnet.infura.io/v3/b416c3a2b5b543b6b10deaee40f05315\"\n",
    "\n"
   ]
  },
  {
   "cell_type": "code",
   "execution_count": 7,
   "metadata": {},
   "outputs": [
    {
     "name": "stdout",
     "output_type": "stream",
     "text": [
      "True\n"
     ]
    }
   ],
   "source": [
    "### Connect to web3 via API\n",
    "\n",
    "web3 = Web3(Web3.HTTPProvider(infura_url))\n",
    "\n",
    "print(web3.isConnected())"
   ]
  },
  {
   "cell_type": "code",
   "execution_count": 8,
   "metadata": {},
   "outputs": [],
   "source": [
    "f = open('./abi.json',)\n",
    "abi = json.load(f)\n",
    "\n",
    "\n",
    "\n",
    "\n",
    "smartContract_address = \"0xd5Dd0814f62a21AB649fb9Cb86DFe0a085d0e28A\"\n",
    "\n",
    "contract = web3.eth.contract(address = smartContract_address , abi=abi)\n"
   ]
  },
  {
   "cell_type": "code",
   "execution_count": 50,
   "metadata": {},
   "outputs": [
    {
     "ename": "TypeError",
     "evalue": "Eth.get_raw_transaction() missing 1 required positional argument: 'transaction_hash'",
     "output_type": "error",
     "traceback": [
      "\u001b[1;31m---------------------------------------------------------------------------\u001b[0m",
      "\u001b[1;31mTypeError\u001b[0m                                 Traceback (most recent call last)",
      "\u001b[1;32m~\\AppData\\Local\\Temp/ipykernel_20972/1244983295.py\u001b[0m in \u001b[0;36m<module>\u001b[1;34m\u001b[0m\n\u001b[0;32m      1\u001b[0m \u001b[1;31m## contract stuff\u001b[0m\u001b[1;33m\u001b[0m\u001b[1;33m\u001b[0m\u001b[0m\n\u001b[1;32m----> 2\u001b[1;33m \u001b[0mweb3\u001b[0m\u001b[1;33m.\u001b[0m\u001b[0meth\u001b[0m\u001b[1;33m.\u001b[0m\u001b[0mget_raw_transaction\u001b[0m\u001b[1;33m(\u001b[0m\u001b[1;33m)\u001b[0m\u001b[1;33m\u001b[0m\u001b[1;33m\u001b[0m\u001b[0m\n\u001b[0m\u001b[0;32m      3\u001b[0m \u001b[1;31m#web3.eth.get_transaction_receipt('')\u001b[0m\u001b[1;33m\u001b[0m\u001b[1;33m\u001b[0m\u001b[0m\n",
      "\u001b[1;31mTypeError\u001b[0m: Eth.get_raw_transaction() missing 1 required positional argument: 'transaction_hash'"
     ]
    }
   ],
   "source": [
    "## contract stuff\n",
    "web3.eth.get_raw_transaction()\n",
    "#web3.eth.get_transaction_receipt('')"
   ]
  },
  {
   "cell_type": "code",
   "execution_count": 10,
   "metadata": {},
   "outputs": [
    {
     "name": "stdout",
     "output_type": "stream",
     "text": [
      "S3Connection:fra1.digitaloceanspaces.com Conn Connected\n",
      "<Bucket: ldonuts> Connected\n"
     ]
    }
   ],
   "source": [
    "#Connect to S3\n",
    "\n",
    "conn = boto.connect_s3(aws_access_key_id= str(key_id[0]),\n",
    "                       aws_secret_access_key= str(secret_key_id[0]),\n",
    "                       host='fra1.digitaloceanspaces.com')\n",
    "def space_connect(region_name):\n",
    "    session = boto3.session.Session()\n",
    "    client = boto3.client('s3',\n",
    "                            region_name = 'fra1',\n",
    "                            endpoint_url='https://fra1.digitaloceanspaces.com',\n",
    "                            aws_access_key_id= str(key_id[0]),\n",
    "                            aws_secret_access_key= str(secret_key_id[0]))\n",
    "    return client\n",
    "\n",
    "bucket = conn.get_bucket('ldonuts')\n",
    "\n",
    "\n",
    "#print(client, \"Client Connected\")\n",
    "print(conn, 'Conn Connected')\n",
    "print(bucket, 'Connected')\n",
    "#print(session, 'Session')\n"
   ]
  },
  {
   "cell_type": "code",
   "execution_count": null,
   "metadata": {},
   "outputs": [],
   "source": [
    "class Handler(http.server.SimpleHTTPRequestHandler):\n",
    "    def do_GET(self):\n",
    "        self.send_response(HTTPStatus.OK)\n",
    "        self.end_headers()\n",
    "        msg = 'Hello! you requested %s' % (self.path)\n",
    "        self.wfile.write(msg.encode())\n",
    "\n",
    "\n",
    "port = int(os.getenv('PORT', 80))\n",
    "print('Listening on port %s' % (port))\n",
    "httpd = socketserver.TCPServer(('', port), Handler)\n",
    "httpd.serve_forever()\n"
   ]
  }
 ],
 "metadata": {
  "interpreter": {
   "hash": "26de051ba29f2982a8de78e945f0abaf191376122a1563185a90213a26c5da77"
  },
  "kernelspec": {
   "display_name": "Python 3.10.0 64-bit",
   "language": "python",
   "name": "python3"
  },
  "language_info": {
   "codemirror_mode": {
    "name": "ipython",
    "version": 3
   },
   "file_extension": ".py",
   "mimetype": "text/x-python",
   "name": "python",
   "nbconvert_exporter": "python",
   "pygments_lexer": "ipython3",
   "version": "3.10.0"
  },
  "orig_nbformat": 4
 },
 "nbformat": 4,
 "nbformat_minor": 2
}
